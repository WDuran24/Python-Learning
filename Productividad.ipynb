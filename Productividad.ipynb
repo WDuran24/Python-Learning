{
 "cells": [
  {
   "cell_type": "markdown",
   "id": "bae88449-a520-44f2-af84-322d7b6559f6",
   "metadata": {},
   "source": [
    "# Productividad vtr"
   ]
  },
  {
   "cell_type": "code",
   "execution_count": 1,
   "id": "8190dd80-2129-4da6-ac84-280c5f844836",
   "metadata": {},
   "outputs": [],
   "source": [
    "import pandas as pd\n",
    "import numpy as np\n",
    "import re\n",
    "from datetime import datetime, timedelta  # Asegúrate de importar timedelta\n"
   ]
  },
  {
   "cell_type": "code",
   "execution_count": 2,
   "id": "615ecb36-ede4-431e-a4f9-46fe027be12e",
   "metadata": {},
   "outputs": [],
   "source": [
    "import pandas as pd\n",
    "\n",
    "# Ruta del archivo\n",
    "ruta = r\"C:\\Users\\wduran\\OneDrive - CLAROCHILE\\Digital Team\\Productividad\\soportepostventa_Attendants_Status_2025-07-01_2025-07-30.xlsx\"\n",
    "\n",
    "# Leer el archivo Excel (por defecto lee la primera hoja)\n",
    "prod = pd.read_excel(ruta)"
   ]
  },
  {
   "cell_type": "code",
   "execution_count": 3,
   "id": "ad86eae0-029f-4567-90ba-12e0c2cdc130",
   "metadata": {},
   "outputs": [],
   "source": [
    "# Crear la nueva columna MAIL que extrae la parte izquierda del arroba\n",
    "prod['MAIL'] = prod['AgentIdentity'].str.split('@').str[0]"
   ]
  },
  {
   "cell_type": "code",
   "execution_count": 5,
   "id": "3a3765d7-a894-40c8-8a90-5f446862d542",
   "metadata": {},
   "outputs": [],
   "source": [
    "# Lista de columnas a convertir\n",
    "cols_to_int = [\n",
    "    \"Online\", \"Invisible\", \"Pause\", \"Offline\",\n",
    "    \"OpenTicketOnline\", \"OpenTicketInvisible\", \"WithoutTicketOnline\"\n",
    "]\n",
    "\n",
    "# Reemplazar nulos por 0 y convertir a entero\n",
    "for col in cols_to_int:\n",
    "    prod[col] = prod[col].fillna(0).astype(int)\n"
   ]
  },
  {
   "cell_type": "code",
   "execution_count": 6,
   "id": "32d0687e-8d09-4b4f-9697-b60088926620",
   "metadata": {},
   "outputs": [],
   "source": [
    "# Convertir el campo a datetime\n",
    "prod[\"DateTimeRef\"] = pd.to_datetime(prod[\"DateTimeRef\"], dayfirst=True, errors=\"coerce\")\n",
    "\n",
    "# Crear campo Fecha en formato dd-mm-aaaa\n",
    "prod[\"Fecha\"] = prod[\"DateTimeRef\"].dt.strftime(\"%d-%m-%Y\")\n",
    "\n",
    "# Crear campo INTERVALO con hora en formato HH:MM\n",
    "prod[\"INTERVALO\"] = prod[\"DateTimeRef\"].dt.strftime(\"%H:%M\")\n"
   ]
  },
  {
   "cell_type": "code",
   "execution_count": 7,
   "id": "9f9e3441-ffb6-4945-9c43-e5e1d5b33a38",
   "metadata": {},
   "outputs": [
    {
     "data": {
      "text/html": [
       "<div>\n",
       "<style scoped>\n",
       "    .dataframe tbody tr th:only-of-type {\n",
       "        vertical-align: middle;\n",
       "    }\n",
       "\n",
       "    .dataframe tbody tr th {\n",
       "        vertical-align: top;\n",
       "    }\n",
       "\n",
       "    .dataframe thead th {\n",
       "        text-align: right;\n",
       "    }\n",
       "</style>\n",
       "<table border=\"1\" class=\"dataframe\">\n",
       "  <thead>\n",
       "    <tr style=\"text-align: right;\">\n",
       "      <th></th>\n",
       "      <th>AgentIdentity</th>\n",
       "      <th>BotId</th>\n",
       "      <th>Teams</th>\n",
       "      <th>Device</th>\n",
       "      <th>DateTimeRef</th>\n",
       "      <th>Online</th>\n",
       "      <th>Invisible</th>\n",
       "      <th>Pause</th>\n",
       "      <th>Offline</th>\n",
       "      <th>OpenTicketOnline</th>\n",
       "      <th>OpenTicketInvisible</th>\n",
       "      <th>WithoutTicketOnline</th>\n",
       "      <th>WithoutTicketInvisible</th>\n",
       "      <th>MAIL</th>\n",
       "      <th>Fecha</th>\n",
       "      <th>INTERVALO</th>\n",
       "    </tr>\n",
       "  </thead>\n",
       "  <tbody>\n",
       "    <tr>\n",
       "      <th>32783</th>\n",
       "      <td>herlly.floresmedina@e.vtr.cl</td>\n",
       "      <td>soportepostventa@msging.net</td>\n",
       "      <td>[Tecnico_Fijo, soporte_ott, Masivos, DBOX SMAR...</td>\n",
       "      <td>Web</td>\n",
       "      <td>2025-07-03 23:00:00</td>\n",
       "      <td>59</td>\n",
       "      <td>0</td>\n",
       "      <td>0</td>\n",
       "      <td>0</td>\n",
       "      <td>55</td>\n",
       "      <td>0</td>\n",
       "      <td>4</td>\n",
       "      <td>0.0</td>\n",
       "      <td>herlly.floresmedina</td>\n",
       "      <td>03-07-2025</td>\n",
       "      <td>23:00</td>\n",
       "    </tr>\n",
       "  </tbody>\n",
       "</table>\n",
       "</div>"
      ],
      "text/plain": [
       "                      AgentIdentity                        BotId  \\\n",
       "32783  herlly.floresmedina@e.vtr.cl  soportepostventa@msging.net   \n",
       "\n",
       "                                                   Teams Device  \\\n",
       "32783  [Tecnico_Fijo, soporte_ott, Masivos, DBOX SMAR...    Web   \n",
       "\n",
       "              DateTimeRef  Online  Invisible  Pause  Offline  \\\n",
       "32783 2025-07-03 23:00:00      59          0      0        0   \n",
       "\n",
       "       OpenTicketOnline  OpenTicketInvisible  WithoutTicketOnline  \\\n",
       "32783                55                    0                    4   \n",
       "\n",
       "       WithoutTicketInvisible                 MAIL       Fecha INTERVALO  \n",
       "32783                     0.0  herlly.floresmedina  03-07-2025     23:00  "
      ]
     },
     "execution_count": 7,
     "metadata": {},
     "output_type": "execute_result"
    }
   ],
   "source": [
    "prod.sample(1)"
   ]
  },
  {
   "cell_type": "code",
   "execution_count": 8,
   "id": "a914d244-95b6-4ed9-9b66-f102574a0bd0",
   "metadata": {},
   "outputs": [
    {
     "name": "stderr",
     "output_type": "stream",
     "text": [
      "C:\\Users\\wduran\\AppData\\Local\\Temp\\ipykernel_3988\\3964556920.py:3: DtypeWarning: Columns (17,20,21,22,23,24,25,26,27,28,29,30,31,33,34,35,36,37,38,39,40,41,42,43,44,45,46,47,48,49,50,51,52,53,54,55,56,57,58,59,60,61,62,63,64,65,66,67,68,69,70,71,72,73,74,75,76,77,78,79,80,81,82,83,84,85,86,87,88,89,90,101) have mixed types. Specify dtype option on import or set low_memory=False.\n",
      "  blip_ha = pd.read_csv(archivo, delimiter=',', encoding='latin1')  # Prueba con 'latin1'\n"
     ]
    }
   ],
   "source": [
    "# Definir la ruta del archivo correctamente\n",
    "archivo = r\"C:\\Users\\wduran\\OneDrive - CLAROCHILE\\Digital Team\\Blip Power Bi Base\\f_blip_ha.csv\"\n",
    "blip_ha = pd.read_csv(archivo, delimiter=',', encoding='latin1')  # Prueba con 'latin1'\n",
    "\n",
    "# Ajustar las opciones para mostrar todas las columnas\n",
    "pd.set_option('display.max_columns', None)"
   ]
  },
  {
   "cell_type": "code",
   "execution_count": 10,
   "id": "a0bb3b4e-18c3-4ec8-8ad8-dd06901224ea",
   "metadata": {},
   "outputs": [],
   "source": [
    "# Define the file path\n",
    "archivo = r\"C:\\Users\\wduran\\OneDrive - CLAROCHILE\\Digital Team\\Dotaciones\\VTR\\Dotación_VTR_20250725.xlsx\"\n",
    "# Read the specific sheet named 'Dotacion' from the Excel file\n",
    "dotacion = pd.read_excel(archivo, sheet_name='Dotacion')  # Specify the sheet name"
   ]
  },
  {
   "cell_type": "code",
   "execution_count": 11,
   "id": "06b621ba-5aca-40c7-84e0-e18009d73561",
   "metadata": {},
   "outputs": [],
   "source": [
    "dotacion_filtrada = dotacion[\n",
    "    (dotacion['ESTADO_CONTRATO'].str.lower() == 'vigente') &\n",
    "    (dotacion['PLATAFORMA'].str.lower().isin(['0 wsp. oopp', '0 wsp postventa'])) &\n",
    "    (dotacion['CARGO'].str.lower() == 'asesor') &\n",
    "    (dotacion['ESTADO_ASESOR'].str.lower().isin(['activo', 'licencia', 'vacaciones']))\n",
    "]\n"
   ]
  },
  {
   "cell_type": "code",
   "execution_count": 13,
   "id": "f2b2cbc8-3234-4fca-8ba6-64fece0ae9a8",
   "metadata": {},
   "outputs": [
    {
     "name": "stderr",
     "output_type": "stream",
     "text": [
      "C:\\Users\\wduran\\AppData\\Local\\Temp\\ipykernel_3988\\3410713443.py:2: SettingWithCopyWarning: \n",
      "A value is trying to be set on a copy of a slice from a DataFrame.\n",
      "Try using .loc[row_indexer,col_indexer] = value instead\n",
      "\n",
      "See the caveats in the documentation: https://pandas.pydata.org/pandas-docs/stable/user_guide/indexing.html#returning-a-view-versus-a-copy\n",
      "  dotacion_filtrada['MAIL'] = dotacion_filtrada['CORREO_ELECTRONICO'].str.split('@').str[0]\n"
     ]
    }
   ],
   "source": [
    "# Crear la nueva columna MAIL que extrae la parte izquierda del arroba\n",
    "dotacion_filtrada['MAIL'] = dotacion_filtrada['CORREO_ELECTRONICO'].str.split('@').str[0]"
   ]
  },
  {
   "cell_type": "code",
   "execution_count": 14,
   "id": "30f2d30f-73de-4261-9a41-8558b1a10ffa",
   "metadata": {},
   "outputs": [
    {
     "name": "stderr",
     "output_type": "stream",
     "text": [
      "C:\\Users\\wduran\\AppData\\Local\\Temp\\ipykernel_3988\\1444816432.py:3: SettingWithCopyWarning: \n",
      "A value is trying to be set on a copy of a slice from a DataFrame.\n",
      "Try using .loc[row_indexer,col_indexer] = value instead\n",
      "\n",
      "See the caveats in the documentation: https://pandas.pydata.org/pandas-docs/stable/user_guide/indexing.html#returning-a-view-versus-a-copy\n",
      "  dotacion_filtrada['MAIL'] = dotacion_filtrada['MAIL'].str.lower()\n"
     ]
    }
   ],
   "source": [
    "# Creamos versiones en minúscula del campo MAIL para el join\n",
    "prod['MAIL'] = prod['MAIL'].str.lower()\n",
    "dotacion_filtrada['MAIL'] = dotacion_filtrada['MAIL'].str.lower()\n",
    "blip_ha['MAIL'] = blip_ha['MAIL'].str.lower()"
   ]
  },
  {
   "cell_type": "code",
   "execution_count": 16,
   "id": "372a40dd-9b5e-47a0-abeb-554c73a3838e",
   "metadata": {},
   "outputs": [],
   "source": [
    "# Hacer merge directo por MAIL\n",
    "prod = prod.merge(\n",
    "    dotacion_filtrada[['MAIL', 'EMPRESA_PAIS']], \n",
    "    on='MAIL', \n",
    "    how='left'\n",
    ")\n",
    "\n",
    "# Crear campo MARCA: 'VTR' si coincide, vacío si no\n",
    "prod['MARCA'] = prod['EMPRESA_PAIS'].notna().map({True: 'VTR', False: ''})\n"
   ]
  },
  {
   "cell_type": "code",
   "execution_count": 18,
   "id": "222ddc8a-6005-4ff5-a537-cc84fdb9d58e",
   "metadata": {},
   "outputs": [],
   "source": [
    "# Asegurarnos de que DateTimeRef es datetime\n",
    "prod[\"DateTimeRef\"] = pd.to_datetime(prod[\"DateTimeRef\"], dayfirst=True, errors=\"coerce\")\n",
    "\n",
    "# Reconvertir campo Fecha a formato YYYY-MM-DD\n",
    "prod[\"Fecha\"] = prod[\"DateTimeRef\"].dt.strftime(\"%Y-%m-%d\")\n"
   ]
  },
  {
   "cell_type": "code",
   "execution_count": 19,
   "id": "6093dc66-9b2c-4e7e-a6bf-35f73ae6e57c",
   "metadata": {},
   "outputs": [],
   "source": [
    "# --- 3) Contar SequentialId por MAIL-Fecha-INTERVALO en blip_ha ---\n",
    "blip_counts = (\n",
    "    blip_ha\n",
    "    .groupby([\"MAIL\", \"Fecha\", \"INTERVALO\"], as_index=False)[\"SequentialId\"]\n",
    "    .count()\n",
    "    .rename(columns={\"SequentialId\": \"Atenciones\"})\n",
    ")\n",
    "\n",
    "# --- 4) Merge a prod para traer Atenciones (dejar 0 si no hay match) ---\n",
    "prod = prod.merge(\n",
    "    blip_counts,\n",
    "    on=[\"MAIL\", \"Fecha\", \"INTERVALO\"],\n",
    "    how=\"left\"\n",
    ")\n",
    "\n",
    "prod[\"Atenciones\"] = prod[\"Atenciones\"].fillna(0).astype(int)\n"
   ]
  },
  {
   "cell_type": "code",
   "execution_count": 20,
   "id": "3e3171bf-f36d-4b5f-966f-92c76291e9c1",
   "metadata": {},
   "outputs": [
    {
     "data": {
      "text/html": [
       "<div>\n",
       "<style scoped>\n",
       "    .dataframe tbody tr th:only-of-type {\n",
       "        vertical-align: middle;\n",
       "    }\n",
       "\n",
       "    .dataframe tbody tr th {\n",
       "        vertical-align: top;\n",
       "    }\n",
       "\n",
       "    .dataframe thead th {\n",
       "        text-align: right;\n",
       "    }\n",
       "</style>\n",
       "<table border=\"1\" class=\"dataframe\">\n",
       "  <thead>\n",
       "    <tr style=\"text-align: right;\">\n",
       "      <th></th>\n",
       "      <th>AgentIdentity</th>\n",
       "      <th>BotId</th>\n",
       "      <th>Teams</th>\n",
       "      <th>Device</th>\n",
       "      <th>DateTimeRef</th>\n",
       "      <th>Online</th>\n",
       "      <th>Invisible</th>\n",
       "      <th>Pause</th>\n",
       "      <th>Offline</th>\n",
       "      <th>OpenTicketOnline</th>\n",
       "      <th>OpenTicketInvisible</th>\n",
       "      <th>WithoutTicketOnline</th>\n",
       "      <th>WithoutTicketInvisible</th>\n",
       "      <th>MAIL</th>\n",
       "      <th>Fecha</th>\n",
       "      <th>INTERVALO</th>\n",
       "      <th>EMPRESA_PAIS</th>\n",
       "      <th>MARCA</th>\n",
       "      <th>Atenciones</th>\n",
       "    </tr>\n",
       "  </thead>\n",
       "  <tbody>\n",
       "    <tr>\n",
       "      <th>17522</th>\n",
       "      <td>danae.medrano@e.vtr.cl</td>\n",
       "      <td>soportepostventa@msging.net</td>\n",
       "      <td>[Comercial_Fijo, consulta_boleta, OP, OP_Def];...</td>\n",
       "      <td>Web</td>\n",
       "      <td>2025-07-20 02:00:00</td>\n",
       "      <td>0</td>\n",
       "      <td>0</td>\n",
       "      <td>0</td>\n",
       "      <td>59</td>\n",
       "      <td>0</td>\n",
       "      <td>0</td>\n",
       "      <td>0</td>\n",
       "      <td>0.0</td>\n",
       "      <td>danae.medrano</td>\n",
       "      <td>2025-07-20</td>\n",
       "      <td>02:00</td>\n",
       "      <td>KONECTA PERU</td>\n",
       "      <td>VTR</td>\n",
       "      <td>0</td>\n",
       "    </tr>\n",
       "    <tr>\n",
       "      <th>31833</th>\n",
       "      <td>hector.prietobellido@e.vtr.cl</td>\n",
       "      <td>soportepostventa@msging.net</td>\n",
       "      <td>[Tecnico_Fijo, soporte_ott, Masivos, DBOX SMAR...</td>\n",
       "      <td>Web</td>\n",
       "      <td>2025-07-21 09:00:00</td>\n",
       "      <td>0</td>\n",
       "      <td>0</td>\n",
       "      <td>0</td>\n",
       "      <td>59</td>\n",
       "      <td>0</td>\n",
       "      <td>0</td>\n",
       "      <td>0</td>\n",
       "      <td>0.0</td>\n",
       "      <td>hector.prietobellido</td>\n",
       "      <td>2025-07-21</td>\n",
       "      <td>09:00</td>\n",
       "      <td>KONECTA PERU</td>\n",
       "      <td>VTR</td>\n",
       "      <td>0</td>\n",
       "    </tr>\n",
       "    <tr>\n",
       "      <th>73438</th>\n",
       "      <td>nathalia.grajales@e.vtr.cl</td>\n",
       "      <td>soportepostventa@msging.net</td>\n",
       "      <td>[Cambio_Dirección, red_neutra_out, RedNeutra_v...</td>\n",
       "      <td>Web;Mobile</td>\n",
       "      <td>2025-07-15 22:00:00</td>\n",
       "      <td>0</td>\n",
       "      <td>0</td>\n",
       "      <td>0</td>\n",
       "      <td>59</td>\n",
       "      <td>0</td>\n",
       "      <td>0</td>\n",
       "      <td>0</td>\n",
       "      <td>0.0</td>\n",
       "      <td>nathalia.grajales</td>\n",
       "      <td>2025-07-15</td>\n",
       "      <td>22:00</td>\n",
       "      <td>ATENTO COLOMBIA</td>\n",
       "      <td>VTR</td>\n",
       "      <td>0</td>\n",
       "    </tr>\n",
       "    <tr>\n",
       "      <th>80153</th>\n",
       "      <td>rosa.otinianochavarra@e.vtr.cl</td>\n",
       "      <td>soportepostventa@msging.net</td>\n",
       "      <td>[]</td>\n",
       "      <td>Web</td>\n",
       "      <td>2025-07-04 17:00:00</td>\n",
       "      <td>59</td>\n",
       "      <td>0</td>\n",
       "      <td>0</td>\n",
       "      <td>0</td>\n",
       "      <td>0</td>\n",
       "      <td>0</td>\n",
       "      <td>59</td>\n",
       "      <td>0.0</td>\n",
       "      <td>rosa.otinianochavarra</td>\n",
       "      <td>2025-07-04</td>\n",
       "      <td>17:00</td>\n",
       "      <td>KONECTA PERU</td>\n",
       "      <td>VTR</td>\n",
       "      <td>0</td>\n",
       "    </tr>\n",
       "  </tbody>\n",
       "</table>\n",
       "</div>"
      ],
      "text/plain": [
       "                        AgentIdentity                        BotId  \\\n",
       "17522          danae.medrano@e.vtr.cl  soportepostventa@msging.net   \n",
       "31833   hector.prietobellido@e.vtr.cl  soportepostventa@msging.net   \n",
       "73438      nathalia.grajales@e.vtr.cl  soportepostventa@msging.net   \n",
       "80153  rosa.otinianochavarra@e.vtr.cl  soportepostventa@msging.net   \n",
       "\n",
       "                                                   Teams      Device  \\\n",
       "17522  [Comercial_Fijo, consulta_boleta, OP, OP_Def];...         Web   \n",
       "31833  [Tecnico_Fijo, soporte_ott, Masivos, DBOX SMAR...         Web   \n",
       "73438  [Cambio_Dirección, red_neutra_out, RedNeutra_v...  Web;Mobile   \n",
       "80153                                                 []         Web   \n",
       "\n",
       "              DateTimeRef  Online  Invisible  Pause  Offline  \\\n",
       "17522 2025-07-20 02:00:00       0          0      0       59   \n",
       "31833 2025-07-21 09:00:00       0          0      0       59   \n",
       "73438 2025-07-15 22:00:00       0          0      0       59   \n",
       "80153 2025-07-04 17:00:00      59          0      0        0   \n",
       "\n",
       "       OpenTicketOnline  OpenTicketInvisible  WithoutTicketOnline  \\\n",
       "17522                 0                    0                    0   \n",
       "31833                 0                    0                    0   \n",
       "73438                 0                    0                    0   \n",
       "80153                 0                    0                   59   \n",
       "\n",
       "       WithoutTicketInvisible                   MAIL       Fecha INTERVALO  \\\n",
       "17522                     0.0          danae.medrano  2025-07-20     02:00   \n",
       "31833                     0.0   hector.prietobellido  2025-07-21     09:00   \n",
       "73438                     0.0      nathalia.grajales  2025-07-15     22:00   \n",
       "80153                     0.0  rosa.otinianochavarra  2025-07-04     17:00   \n",
       "\n",
       "          EMPRESA_PAIS MARCA  Atenciones  \n",
       "17522     KONECTA PERU   VTR           0  \n",
       "31833     KONECTA PERU   VTR           0  \n",
       "73438  ATENTO COLOMBIA   VTR           0  \n",
       "80153     KONECTA PERU   VTR           0  "
      ]
     },
     "execution_count": 20,
     "metadata": {},
     "output_type": "execute_result"
    }
   ],
   "source": [
    "prod.sample(4)"
   ]
  },
  {
   "cell_type": "code",
   "execution_count": 21,
   "id": "489c8e0c-ad5f-44a2-acca-b68f1b79b4ea",
   "metadata": {},
   "outputs": [],
   "source": [
    "# Opcional si Online pudiese venir como texto\n",
    "prod['H-Productiva'] = (prod['Online'] >= 10).astype(int)"
   ]
  },
  {
   "cell_type": "code",
   "execution_count": 22,
   "id": "8349d54e-a1a0-42bd-9fdb-0ee5f7c2f6c3",
   "metadata": {},
   "outputs": [],
   "source": [
    "# Eliminar filas con NaN en EMPRESA_PAIS\n",
    "prod = prod[prod['EMPRESA_PAIS'].notna()].copy()\n"
   ]
  },
  {
   "cell_type": "code",
   "execution_count": 24,
   "id": "198b3d91-94b3-4b50-bdc0-8830edfa45d2",
   "metadata": {},
   "outputs": [],
   "source": [
    "# Ahora sí, guardás el archivo\n",
    "prod.to_excel(r\"C:\\Users\\wduran\\OneDrive - CLAROCHILE\\Digital Team\\Productividad\\Productividad_JUL.xlsx\", index=False)"
   ]
  }
 ],
 "metadata": {
  "kernelspec": {
   "display_name": "Python 3 (ipykernel)",
   "language": "python",
   "name": "python3"
  },
  "language_info": {
   "codemirror_mode": {
    "name": "ipython",
    "version": 3
   },
   "file_extension": ".py",
   "mimetype": "text/x-python",
   "name": "python",
   "nbconvert_exporter": "python",
   "pygments_lexer": "ipython3",
   "version": "3.12.3"
  }
 },
 "nbformat": 4,
 "nbformat_minor": 5
}
